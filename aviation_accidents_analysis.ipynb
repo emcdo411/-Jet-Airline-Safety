{
 "cells": [
  {
   "cell_type": "markdown",
   "id": "128e9a76",
   "metadata": {},
   "source": [
    "# Summative Lab: Data Analysis — Jet Airline Safety (EDA & Recommendations)\n",
    "\n",
    "This notebook covers **Part Two** of the assessment: exploratory data analysis (EDA) and evidence-backed recommendations.\n",
    "\n",
    "**What this notebook does:**\n",
    "\n",
    "- Loads the cleaned CSV from Part One.\n",
    "- Defines small vs. large aircraft groups (threshold: **20 seats/occupants**).\n",
    "- Computes group-level safety metrics (serious/fatal injury rate, destruction rate) for **make/model** with a minimum sample size.\n",
    "- Explores at least **two additional factors** (choose any two of: **Weather Condition**, **Engine Type**, **Number of Engines**, **Phase of Flight**, **Purpose of Flight**) and visualizes their relationships to outcomes.\n",
    "- Provides **clear, evidence-based recommendations** for **small** and **large** aircraft.\n",
    "\n",
    "> Notes:\n",
    "> - If the dataset lacks an explicit capacity field, we use **best available estimate** via `total_aboard_est` (from Part One) to separate small/large groups. If `total_aboard_est` is missing, we will fall back to `number_of_engines` as a crude proxy.\n"
   ]
  },
  {
   "cell_type": "code",
   "execution_count": null,
   "id": "3782b3dd",
   "metadata": {},
   "outputs": [],
   "source": [
    "# Imports & load\n",
    "import os\n",
    "import numpy as np\n",
    "import pandas as pd\n",
    "import matplotlib.pyplot as plt\n",
    "import seaborn as sns\n",
    "\n",
    "sns.set_theme(context=\"talk\", style=\"whitegrid\")\n",
    "\n",
    "possible_cleaned = [\"data/aviation_cleaned.csv\",\"aviation_cleaned.csv\"]\n",
    "df = None\n",
    "for p in possible_cleaned:\n",
    "    if os.path.exists(p):\n",
    "        df = pd.read_csv(p)\n",
    "        source_path = p\n",
    "        break\n",
    "if df is None:\n",
    "    raise FileNotFoundError(\"Cleaned file not found. Expected one of: \" + \", \".join(possible_cleaned))\n",
    "\n",
    "print(f\"Loaded cleaned data from {source_path}. Shape = {df.shape}\")\n",
    "df.head(3)"
   ]
  },
  {
   "cell_type": "code",
   "execution_count": null,
   "id": "2521b530",
   "metadata": {},
   "outputs": [],
   "source": [
    "# Define small vs. large by total_aboard_est threshold (>=20 is large)\n",
    "aboard_col = \"total_aboard_est\" if \"total_aboard_est\" in df.columns else None\n",
    "eng_col = \"number_of_engines\" if \"number_of_engines\" in df.columns else None\n",
    "\n",
    "def is_large(row):\n",
    "    if aboard_col and pd.notna(row.get(aboard_col, np.nan)):\n",
    "        return row[aboard_col] >= 20\n",
    "    if eng_col and pd.notna(row.get(eng_col, np.nan)):\n",
    "        return row[eng_col] > 2\n",
    "    return False\n",
    "\n",
    "df[\"is_large\"] = df.apply(is_large, axis=1)\n",
    "df[\"size_group\"] = np.where(df[\"is_large\"], \"Large (>=20)\", \"Small (<20)\")\n",
    "df[\"year\"] = pd.to_datetime(df[\"event_date_parsed\"], errors=\"coerce\").dt.year\n",
    "\n",
    "df[\"destroyed\"] = df[\"destroyed\"].astype(bool)\n",
    "\n",
    "df.head(3)"
   ]
  },
  {
   "cell_type": "markdown",
   "id": "ab54910e",
   "metadata": {},
   "source": [
    "## Group-level safety metrics (by make/model)"
   ]
  },
  {
   "cell_type": "code",
   "execution_count": null,
   "id": "8d15eb25",
   "metadata": {},
   "outputs": [],
   "source": [
    "# Group metrics by make_model_key within each size group\n",
    "min_n = 30\n",
    "\n",
    "metrics = (df\n",
    "    .groupby([\"size_group\",\"make_model_key\"], dropna=False)\n",
    "    .agg(\n",
    "        n=(\"make_model_key\",\"size\"),\n",
    "        serious_fatal_rate_mean=(\"serious_fatal_rate\",\"mean\"),\n",
    "        destroyed_rate=(\"destroyed\",\"mean\")\n",
    "    )\n",
    "    .reset_index()\n",
    ")\n",
    "\n",
    "metrics = metrics[metrics[\"n\"] >= min_n].sort_values([\"size_group\",\"serious_fatal_rate_mean\",\"destroyed_rate\"])\n",
    "\n",
    "print(\"Top safer candidates (lower injury rate + lower destruction rate):\")\n",
    "display(metrics.groupby(\"size_group\").head(10))"
   ]
  },
  {
   "cell_type": "code",
   "execution_count": null,
   "id": "54d6b49c",
   "metadata": {},
   "outputs": [],
   "source": [
    "# Visual summaries\n",
    "fig, axes = plt.subplots(1,2, figsize=(16,6), sharey=True)\n",
    "for ax, grp in zip(axes, [\"Small (<20)\",\"Large (>=20)\"]):\n",
    "    sub = metrics[metrics[\"size_group\"]==grp].nsmallest(10, [\"serious_fatal_rate_mean\",\"destroyed_rate\"])\n",
    "    sns.barplot(data=sub, x=\"serious_fatal_rate_mean\", y=\"make_model_key\", ax=ax)\n",
    "    ax.set_title(f\"{grp}: Lowest Serious/Fatal Injury Rates (Top 10)\")\n",
    "    ax.set_xlabel(\"Mean Serious/Fatal Injury Rate\")\n",
    "    ax.set_ylabel(\"Make | Model\")\n",
    "plt.tight_layout()"
   ]
  },
  {
   "cell_type": "markdown",
   "id": "04fb44b8",
   "metadata": {},
   "source": [
    "## Explore Other Factors\n",
    "\n",
    "Analyze how **Weather Condition**, **Engine Type**, **Number of Engines**, **Phase of Flight**, **Purpose of Flight** relate to outcomes.\n"
   ]
  },
  {
   "cell_type": "code",
   "execution_count": null,
   "id": "623965d2",
   "metadata": {},
   "outputs": [],
   "source": [
    "factors = []\n",
    "for c in [\"weather_condition\",\"engine_type\",\"number_of_engines\",\"broad_phase_of_flight\",\"purpose_of_flight\"]:\n",
    "    if c in df.columns:\n",
    "        factors.append(c)\n",
    "\n",
    "def factor_summary_plot(col, outcome=\"serious_fatal_rate\"):\n",
    "    temp = (df.groupby(col)\n",
    "              .agg(n=(outcome,\"count\"),\n",
    "                   mean_rate=(outcome,\"mean\"),\n",
    "                   destroyed_rate=(\"destroyed\",\"mean\"))\n",
    "              .reset_index()\n",
    "              .sort_values(\"mean_rate\"))\n",
    "    display(temp.head(10))\n",
    "    plt.figure(figsize=(12,6))\n",
    "    sns.barplot(data=temp, x=\"mean_rate\", y=col)\n",
    "    plt.title(f\"{col}: Mean {outcome} by Category\")\n",
    "    plt.xlabel(f\"Mean {outcome}\")\n",
    "    plt.ylabel(col)\n",
    "    plt.tight_layout()\n",
    "    plt.show()\n",
    "    return temp\n",
    "\n",
    "summaries = {}\n",
    "for col in factors[:3]:\n",
    "    summaries[col] = factor_summary_plot(col, outcome=\"serious_fatal_rate\")"
   ]
  },
  {
   "cell_type": "markdown",
   "id": "c6266c6f",
   "metadata": {},
   "source": [
    "## Recommendations\n",
    "\n",
    "- Provide separate shortlists for **Small (<20)** and **Large (>=20)** groups using tables/plots above.\n",
    "- Highlight models with **n ≥ 30**, **low serious/fatal rate**, and **low destroyed_rate**.\n",
    "- Discuss how the two examined factors (e.g., weather, engines, phase) influence outcomes and what actions insurers/airlines could take.\n"
   ]
  }
 ],
 "metadata": {},
 "nbformat": 4,
 "nbformat_minor": 5
}
